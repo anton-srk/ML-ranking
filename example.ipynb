{
 "cells": [
  {
   "cell_type": "code",
   "execution_count": 3,
   "metadata": {},
   "outputs": [],
   "source": [
    "import requests\n",
    "import json\n",
    "import pandas as pd"
   ]
  },
  {
   "cell_type": "code",
   "execution_count": 31,
   "metadata": {},
   "outputs": [],
   "source": [
    "test_queries = {'queries':\n",
    "          [\n",
    "           \"I lost my job. Sometimes I feel I cannot do anything and I feel bad\",\n",
    "           \"Зачем все это?\"\n",
    "          ]}"
   ]
  },
  {
   "cell_type": "code",
   "execution_count": 32,
   "metadata": {},
   "outputs": [
    {
     "data": {
      "text/plain": [
       "{'lang_check': [True, False],\n",
       " 'suggestions': [[['120568',\n",
       "    'What should I do if I feel like everyone hates me? Am I going into a depression? What can I do not to hate myself?'],\n",
       "   ['174650',\n",
       "    'I am too lazy, I do not feel like doing anything. How do I change it?'],\n",
       "   ['217609',\n",
       "    'I do not love my job, but I need money, I am suffered everyday.What will you do if you are me?'],\n",
       "   ['227452', 'What do I do if I feel down with my girlfriend?'],\n",
       "   ['169114', 'I feel like a loser, what should I do?'],\n",
       "   ['67604', 'What should I do when I feel very lonely?'],\n",
       "   ['337643', 'Why I feel good when I get depressed?'],\n",
       "   ['85029', 'Why do I never feel alone?'],\n",
       "   ['310548', 'Why am I too lazy to even do things that I like?'],\n",
       "   ['59381', 'What do I do with my useless life?']],\n",
       "  None]}"
      ]
     },
     "execution_count": 32,
     "metadata": {},
     "output_type": "execute_result"
    }
   ],
   "source": [
    "response = requests.post('http://0.0.0.0:11000/query', json=json.dumps(test_queries))\n",
    "response.json()"
   ]
  }
 ],
 "metadata": {
  "kernelspec": {
   "display_name": "Python 3",
   "language": "python",
   "name": "python3"
  },
  "language_info": {
   "codemirror_mode": {
    "name": "ipython",
    "version": 3
   },
   "file_extension": ".py",
   "mimetype": "text/x-python",
   "name": "python",
   "nbconvert_exporter": "python",
   "pygments_lexer": "ipython3",
   "version": "3.7.3"
  }
 },
 "nbformat": 4,
 "nbformat_minor": 4
}
